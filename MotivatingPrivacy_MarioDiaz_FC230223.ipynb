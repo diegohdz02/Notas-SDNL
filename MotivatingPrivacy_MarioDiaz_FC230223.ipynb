{
  "nbformat": 4,
  "nbformat_minor": 0,
  "metadata": {
    "colab": {
      "provenance": [],
      "include_colab_link": true
    },
    "kernelspec": {
      "name": "python3",
      "display_name": "Python 3"
    }
  },
  "cells": [
    {
      "cell_type": "markdown",
      "metadata": {
        "id": "view-in-github",
        "colab_type": "text"
      },
      "source": [
        "<a href=\"https://colab.research.google.com/github/diegohdz02/Notas-SDNL/blob/main/MotivatingPrivacy_MarioDiaz_FC230223.ipynb\" target=\"_parent\"><img src=\"https://colab.research.google.com/assets/colab-badge.svg\" alt=\"Open In Colab\"/></a>"
      ]
    },
    {
      "cell_type": "markdown",
      "metadata": {
        "id": "hf6hmkfTmrLK"
      },
      "source": [
        "# A Simple Fairness-Aware Classification Problem: Finding and Destroying Correlations\n",
        "\n",
        "<br>\n",
        "\n",
        "<br>\n",
        "\n",
        "<br>\n",
        "\n",
        "<br>\n",
        "\n",
        "<br>\n",
        "\n",
        "<br>\n",
        "\n",
        "<br>\n",
        "\n",
        "Mario Diaz, IIMAS-UNAM<br>\n",
        "mario.diaz@sigma.iimas.unam.mx<br>\n",
        "https://mariodiaztorres.com/\n",
        "\n",
        "<br>\n",
        "\n",
        "<br>\n",
        "\n",
        "<br>\n",
        "\n",
        "<br>\n",
        "\n",
        "<br>\n",
        "\n",
        "<br>\n",
        "\n",
        "March 2023\n",
        "\n",
        "<br>\n",
        "\n",
        "<br>\n",
        "\n",
        "<br>\n",
        "\n",
        "<br>"
      ]
    },
    {
      "cell_type": "markdown",
      "metadata": {
        "id": "TTu6_oxnwrl5"
      },
      "source": [
        "<br>\n",
        "\n",
        "<br>\n",
        "\n",
        "<br>\n",
        "\n",
        "<br>\n",
        "\n",
        "<b>Problem.</b> Given a portion of the 1994 US census dataset,<br>\n",
        "> design a <font color=\"blue\"><i>classifier</i></font> that predicts the income bracket of an individual based on a certain set of attributes.\n",
        "\n",
        "<br>\n",
        "\n",
        "<br>\n",
        "\n",
        "<br>\n",
        "\n",
        "<br>\n",
        "\n",
        "<b>Proposed Solution.</b> A modified version of the ordinary least squares estimator, aka<br>\n",
        "> a <font color=\"blue\"><i>1-layer neural network</i></font> with sign activation fuction.\n",
        "\n",
        "<br>\n",
        "\n",
        "<br>\n",
        "\n",
        "<br>\n",
        "\n",
        "<br>"
      ]
    },
    {
      "cell_type": "markdown",
      "metadata": {
        "id": "mMq0d8e0nrD1"
      },
      "source": [
        "<br>\n",
        "\n",
        "<br>\n",
        "\n",
        "<br>\n",
        "\n",
        "<br>\n",
        "\n",
        "<br>\n",
        "\n",
        "<br>\n",
        "\n",
        "<br>\n",
        "\n",
        "<br>\n",
        "\n",
        "<br>\n",
        "\n",
        "<br>\n",
        "\n",
        "<br>\n",
        "\n",
        "<br>\n",
        "\n",
        "<br>\n",
        "\n",
        "<br>\n",
        "\n",
        "<br>\n",
        "\n",
        "<br>\n",
        "\n",
        "<br>\n",
        "\n",
        "## Loading Libraries & UCI Adult Census Income Dataset\n",
        "\n",
        "Numpy, pandas, matplotlib & scikit-learn."
      ]
    },
    {
      "cell_type": "code",
      "metadata": {
        "id": "9SaKSodCmofh"
      },
      "source": [
        "import copy\n",
        "import numpy as np\n",
        "import pandas as pd\n",
        "import matplotlib.pyplot as plt\n",
        "from sklearn.preprocessing import LabelEncoder, OneHotEncoder\n",
        "from sklearn.linear_model import LinearRegression\n",
        "from sklearn.utils import column_or_1d\n",
        "\n",
        "class MyLabelEncoder(LabelEncoder):\n",
        "\n",
        "    def fit(self, y):\n",
        "        y = column_or_1d(y, warn=True)\n",
        "        self.classes_ = pd.Series(y).unique()\n",
        "        return self"
      ],
      "execution_count": null,
      "outputs": []
    },
    {
      "cell_type": "markdown",
      "metadata": {
        "id": "6VinabERmDKg"
      },
      "source": [
        "Census data containing demographic features of adults and their income."
      ]
    },
    {
      "cell_type": "code",
      "metadata": {
        "id": "N37YfwqqrmKo"
      },
      "source": [
        "COLUMNS = [\"age\", \"workclass\", \"fnlwgt\", \"education\", \"education_num\",\n",
        "           \"marital_status\", \"occupation\", \"relationship\", \"race\", \"gender\",\n",
        "           \"capital_gain\", \"capital_loss\", \"hours_per_week\", \"native_country\",\n",
        "           \"income_bracket\"]"
      ],
      "execution_count": null,
      "outputs": []
    },
    {
      "cell_type": "markdown",
      "metadata": {
        "id": "TlET75J4v6yH"
      },
      "source": [
        "As usual, one part of the dataset is used for <font color=\"blue\"><i>training</i></font> (30162 samples) and another one for <font color=\"blue\"><i>testing</i></font> (15060 samples)."
      ]
    },
    {
      "cell_type": "code",
      "metadata": {
        "id": "8WY4Zb-dv3YJ"
      },
      "source": [
        "train_df = pd.read_csv(\n",
        "    \"https://archive.ics.uci.edu/ml/machine-learning-databases/adult/adult.data\",\n",
        "    names=COLUMNS,\n",
        "    sep=r'\\s*,\\s*',\n",
        "    engine='python',\n",
        "    na_values=\"?\")\n",
        "test_df = pd.read_csv(\n",
        "    \"https://archive.ics.uci.edu/ml/machine-learning-databases/adult/adult.test\",\n",
        "    names=COLUMNS,\n",
        "    sep=r'\\s*,\\s*',\n",
        "    skiprows=[0],\n",
        "    engine='python',\n",
        "    na_values=\"?\")\n",
        "\n",
        "# Drop rows with missing values\n",
        "train_df = train_df.dropna(how=\"any\", axis=0)\n",
        "test_df = test_df.dropna(how=\"any\", axis=0)"
      ],
      "execution_count": null,
      "outputs": []
    },
    {
      "cell_type": "markdown",
      "metadata": {
        "id": "sg8DXEl7xQhN"
      },
      "source": [
        "<br>\n",
        "\n",
        "<br>\n",
        "\n",
        "<br>\n",
        "\n",
        "<br>\n",
        "\n",
        "<br>\n",
        "\n",
        "<br>\n",
        "\n",
        "<br>\n",
        "\n",
        "<br>\n",
        "\n",
        "<br>\n",
        "\n",
        "<br>\n",
        "\n",
        "<br>\n",
        "\n",
        "<br>\n",
        "\n",
        "<br>\n",
        "\n",
        "<br>\n",
        "\n",
        "<br>\n",
        "\n",
        "<br>\n",
        "\n",
        "<br>\n",
        "\n",
        "## Preprocessing\n",
        "\n",
        "We want to predict <font color=\"blue\"><i>income bracket</i></font> using: <font color=\"blue\"><i>age</i></font>, <font color=\"blue\"><i>education</i></font>, <font color=\"blue\"><i>occupation</i></font> and <font color=\"blue\"><i>gender</i></font>."
      ]
    },
    {
      "cell_type": "code",
      "metadata": {
        "id": "wtBVdRYo--UK"
      },
      "source": [
        "X = train_df.values[:,[0,3,6,9]]\n",
        "Y = train_df.values[:,14]"
      ],
      "execution_count": null,
      "outputs": []
    },
    {
      "cell_type": "markdown",
      "metadata": {
        "id": "ze286ammxZKr"
      },
      "source": [
        "### Age\n",
        "\n",
        "The <font color=\"blue\"><i>age</i></font> feature ranges between 17 and 90. In order to normalize it, we apply the transformation\n",
        "\n",
        "$$ x \\mapsto \\frac{x-17}{90 - 17}.$$"
      ]
    },
    {
      "cell_type": "code",
      "metadata": {
        "id": "Cx6rbtko-1Z6"
      },
      "source": [
        "X[:,0] = (X[:,0] - 17.0)/73.0"
      ],
      "execution_count": null,
      "outputs": []
    },
    {
      "cell_type": "markdown",
      "metadata": {
        "id": "pi1StgdB-TwZ"
      },
      "source": [
        "### Education\n",
        "\n",
        "The <font color=\"blue\"><i>education</i></font> feature takes 16 different values. To each value, we assign a number of the form $\\displaystyle \\frac{k}{15}$."
      ]
    },
    {
      "cell_type": "code",
      "metadata": {
        "id": "xAArEk3g_ELi"
      },
      "source": [
        "enc_edu = MyLabelEncoder()\n",
        "enc_edu.fit([\"Preschool\", \"1st-4th\", \"5th-6th\", \"7th-8th\", \"9th\", \"10th\", \"11th\",\n",
        "                    \"12th\", \"HS-grad\", \"Prof-school\", \"Assoc-acdm\", \"Assoc-voc\",\n",
        "                    \"Some-college\", \"Bachelors\", \"Masters\", \"Doctorate\"])\n",
        "X[:,1] = enc_edu.transform(X[:,1])/15.0"
      ],
      "execution_count": null,
      "outputs": []
    },
    {
      "cell_type": "markdown",
      "metadata": {
        "id": "JIbBhl3a-l4b"
      },
      "source": [
        "### Occupation\n",
        "\n",
        "There are 14 different <font color=\"blue\"><i>occupations</i></font>, each of those is treated as a binary attribute. Namely, $x_{\\text{occ}_{i}} = 1$ if a given individual works in $\\text{occupation}_{i}$ and $x_{\\text{occ}_{i}} = 0$ otherwise, e.g.,\n",
        "\n",
        "$$ (1,0,0,\\ldots,0,0) \\quad \\text{or} \\quad (0,1,0,\\ldots,0,0) \\quad \\text{or} \\quad (0,0,0,\\ldots,0,1).$$"
      ]
    },
    {
      "cell_type": "code",
      "metadata": {
        "id": "8FypODy9_JKE"
      },
      "source": [
        "ohe = OneHotEncoder()\n",
        "X_occ = ohe.fit_transform(X[:,[2]]).toarray()"
      ],
      "execution_count": null,
      "outputs": []
    },
    {
      "cell_type": "markdown",
      "metadata": {
        "id": "FS8RPEGD-aGy"
      },
      "source": [
        "### Gender\n",
        "\n",
        "The <font color=\"blue\"><i>gender</i></font> attribute is set to 1 if a given individual is female and 0 otherwise."
      ]
    },
    {
      "cell_type": "code",
      "metadata": {
        "id": "2V35LJw_tiUy"
      },
      "source": [
        "enc_gen = MyLabelEncoder()\n",
        "enc_gen.fit([\"Male\",\"Female\"])\n",
        "X[:,3] = enc_gen.transform(X[:,3])"
      ],
      "execution_count": null,
      "outputs": []
    },
    {
      "cell_type": "markdown",
      "metadata": {
        "id": "z-IDbZ4O_PAw"
      },
      "source": [
        "We put all these features together in a matrix called <i>X_train</i>.\n",
        "\n",
        "<br>\n",
        "\n",
        "> Each row of <i>X_train</i> has 2 real variables (age & education) and 14 binary variables (13 occupations & gender).\n",
        "> $$ x = (x_{\\text{age}}, x_{\\text{education}}, x_{\\text{occ}_{1}}, \\ldots, x_{\\text{occ}_{13}}, x_{\\text{gender}}). $$"
      ]
    },
    {
      "cell_type": "code",
      "metadata": {
        "id": "pMIRSg6K_Pje"
      },
      "source": [
        "X_train = np.concatenate((X[:,[0,1]],X_occ[:,range(1,14)],X[:,[3]]), axis=1)"
      ],
      "execution_count": null,
      "outputs": []
    },
    {
      "cell_type": "markdown",
      "metadata": {
        "id": "-OsZCB-w_eaO"
      },
      "source": [
        "### Income Bracket\n",
        "\n",
        "<font color=\"blue\"><i>Income bracket</i></font> takes two values: \"<=50K\" and \">50K\". We encode this attribute in a variable called <i>Y_train</i>.\n",
        "\n",
        "<br>\n",
        "\n",
        "> This attribute is represented by a binary variable, say $y$.\n",
        "\n",
        "<br>\n",
        "\n",
        "<b>Note.</b> This is the variable to be predicted using the previous ones, i.e.,\n",
        "> we want to find a <font color=\"blue\"><i>classifier</i></font> $h:\\mathbb{R}^{16}\\to\\{0,1\\}$ such that $y \\approx h(x)$."
      ]
    },
    {
      "cell_type": "code",
      "metadata": {
        "id": "1Dc_OQab_hac"
      },
      "source": [
        "enc_inc = MyLabelEncoder()\n",
        "enc_inc.fit([\"<=50K\", \">50K\"])\n",
        "Y_train = enc_inc.transform(Y)"
      ],
      "execution_count": null,
      "outputs": []
    },
    {
      "cell_type": "markdown",
      "metadata": {
        "id": "UEvEifg1x2-S"
      },
      "source": [
        "The same process is applied to the testing data set."
      ]
    },
    {
      "cell_type": "code",
      "metadata": {
        "id": "3MShzS-h3tlG"
      },
      "source": [
        "X = test_df.values[:,[0,3,6,9]]\n",
        "Y = test_df.values[:,14]\n",
        "\n",
        "X[:,0] = (X[:,0] - 17.0)/73.0\n",
        "\n",
        "enc_edu = MyLabelEncoder()\n",
        "enc_edu.fit([\"Preschool\", \"1st-4th\", \"5th-6th\", \"7th-8th\", \"9th\", \"10th\", \"11th\",\n",
        "                    \"12th\", \"HS-grad\", \"Prof-school\", \"Assoc-acdm\", \"Assoc-voc\",\n",
        "                    \"Some-college\", \"Bachelors\", \"Masters\", \"Doctorate\"])\n",
        "X[:,1] = enc_edu.transform(X[:,1])/15.0\n",
        "\n",
        "ohe = OneHotEncoder()\n",
        "X_occ = ohe.fit_transform(X[:,[2]]).toarray()\n",
        "\n",
        "enc_gen = MyLabelEncoder()\n",
        "enc_gen.fit([\"Male\", \"Female\"])\n",
        "X[:,3] = enc_gen.transform(X[:,3])\n",
        "\n",
        "X_test = np.concatenate((X[:,[0,1]],X_occ[:,range(1,14)],X[:,[3]]), axis=1)\n",
        "\n",
        "enc_inc = MyLabelEncoder()\n",
        "enc_inc.fit([\"<=50K.\", \">50K.\"])\n",
        "Y_test = enc_inc.transform(Y)"
      ],
      "execution_count": null,
      "outputs": []
    },
    {
      "cell_type": "markdown",
      "metadata": {
        "id": "T9VE-OOMx8Rd"
      },
      "source": [
        "<br>\n",
        "\n",
        "<br>\n",
        "\n",
        "<br>\n",
        "\n",
        "<br>\n",
        "\n",
        "<br>\n",
        "\n",
        "<br>\n",
        "\n",
        "<br>\n",
        "\n",
        "<br>\n",
        "\n",
        "<br>\n",
        "\n",
        "<br>\n",
        "\n",
        "<br>\n",
        "\n",
        "<br>\n",
        "\n",
        "<br>\n",
        "\n",
        "<br>\n",
        "\n",
        "> <b>Goal.</b> Find a classifier $h:\\mathbb{R}^{16}\\to\\{0,1\\}$ such that\n",
        "> $$ y \\approx h(x). $$\n",
        "\n",
        "<br>\n",
        "\n",
        "<br>\n",
        "\n",
        "<br>\n",
        "\n",
        "<br>\n",
        "\n",
        "<br>\n",
        "\n",
        "<br>\n",
        "\n",
        "<br>\n",
        "\n",
        "<br>\n",
        "\n",
        "<br>\n",
        "\n",
        "<br>\n",
        "\n",
        "<br>\n",
        "\n",
        "<br>\n",
        "\n",
        "<br>\n",
        "\n",
        "<br>\n"
      ]
    },
    {
      "cell_type": "markdown",
      "source": [
        "## Linear Model & Ordinary Least Squares\n",
        "\n",
        "We use a modified version of the <font color=\"blue\"><i>ordinary least squares estimator</i></font> as classifier."
      ],
      "metadata": {
        "id": "YSVY-2y-MC-u"
      }
    },
    {
      "cell_type": "markdown",
      "metadata": {
        "id": "fdbh8PCixOky"
      },
      "source": [
        "### Mathematical Model\n",
        "\n",
        "For each $b\\in\\mathbb{R}$ and $w\\in\\mathbb{R}^{d}$ (with $d=16$):\n",
        "\n",
        "* We define $g_{b,w}:\\mathbb{R}^{d}\\to\\mathbb{R}$ as\n",
        "$$ g_{b,w}(x) = b + w_{1}x_{1} + \\cdots + w_{d}x_{d} \\\\= b + \\langle w, x\\rangle. \\phantom{....}$$\n",
        "\n",
        "* We define $h_{b,w}:\\mathbb{R}^{d}\\to\\{0,1\\}$ as\n",
        "$$ h_{b,w}(x) = \\frac{1+\\text{sign}(g_{b,w}(x) - 1/2)}{2} \\\\ \\phantom{h_{b,w}()} = \\begin{cases}1 & g_{b,w}(x) \\geq 1/2,\\\\0 & g_{b,w}(x) < 1/2.\\end{cases}$$\n",
        "\n",
        "> We consider the <font color=\"blue\"><i>hypothesis class</i></font> given by $\\mathcal{H} = \\left\\{h_{b,w} : b\\in\\mathbb{R}, w\\in\\mathbb{R}^{d}\\right\\}$."
      ]
    },
    {
      "cell_type": "markdown",
      "metadata": {
        "id": "ysxVyedY57hS"
      },
      "source": [
        "### Finding a Classifier\n",
        "\n",
        "In order to obtain a classifier from the training data, we find\n",
        "\n",
        "> $$ (\\hat{b},\\hat{w}) \\in \\text{arg min}_{b,w} \\sum_{(x,y)\\in (\\textit{X_train},\\textit{Y_train})} (g_{b,w}(x) - y)^{2}. $$\n",
        "\n",
        "The function $g_{\\hat{b},\\hat{w}}$ is known as the <font color=\"blue\"><i>ordinary least squares</i></font> estimator.\n",
        "\n",
        "<br>\n",
        "\n",
        "> We select the classifier\n",
        "> $$ \\hat{y} = h_{\\hat{b},\\hat{w}}(x). $$"
      ]
    },
    {
      "cell_type": "code",
      "metadata": {
        "id": "dhIKeCCEgDnq"
      },
      "source": [
        "sel_var = range(0,16)\n",
        "\n",
        "regressor = LinearRegression()\n",
        "regressor.fit(X_train[:,sel_var],Y_train)\n",
        "\n",
        "Y_test_hat = regressor.predict(X_test[:,sel_var])\n",
        "Y_test_hat = 0.5*(1+np.sign(Y_test_hat-0.5))"
      ],
      "execution_count": null,
      "outputs": []
    },
    {
      "cell_type": "markdown",
      "metadata": {
        "id": "4nRRIXY18-1g"
      },
      "source": [
        "### Accuracy\n",
        "\n",
        "Ideally, we measure accuracy using the <font color=\"blue\"><i>probability of correctly guessing</i></font> $y$, i.e.,\n",
        "> $$ \\text{Accuracy} := \\mathbb{P}\\left(\\hat{y} = y\\right)\\\\ \\phantom{AccuracyAcccc}\\,\\;\\; = \\mathbb{P}\\left(h_{\\hat{b},\\hat{w}}(x) = y\\right). $$\n",
        "\n",
        "<br>\n",
        "\n",
        "However, we use its empirical version over the testing dataset\n",
        "> $$ \\text{Accuracy} \\approx \\frac{1}{|\\textit{Y_test}|} \\sum_{(x,y)\\in (\\textit{X_test},\\textit{Y_test})} \\mathbf{1}\\{\\hat{y} = y\\} \\phantom{......}$$\n",
        "> $$ \\phantom{\\text{Accuracy}} = \\frac{1}{|\\textit{Y_test}|} \\sum_{(x,y)\\in (\\textit{X_test},\\textit{Y_test})} \\mathbf{1}\\{h_{\\hat{b},\\hat{w}}(x) = y\\}.$$\n",
        "\n",
        "<br>\n",
        "\n",
        "The accuracy of our classifier is 79.1%."
      ]
    },
    {
      "cell_type": "code",
      "metadata": {
        "id": "pILuWZqjzbgo",
        "colab": {
          "base_uri": "https://localhost:8080/"
        },
        "outputId": "fb35f5b3-0d96-4302-ced0-5f7223111da2"
      },
      "source": [
        "acc = 100.0*(1.0 - np.linalg.norm(Y_test_hat-Y_test,1)/15060.0)\n",
        "print(\"Accuracy = %2.1f%%\" % acc)"
      ],
      "execution_count": null,
      "outputs": [
        {
          "output_type": "stream",
          "name": "stdout",
          "text": [
            "Accuracy = 79.1%\n"
          ]
        }
      ]
    },
    {
      "cell_type": "markdown",
      "source": [
        "<br>\n",
        "\n",
        "<br>\n",
        "\n",
        "<br>\n",
        "\n",
        "<br>\n",
        "\n",
        "<br>\n",
        "\n",
        "<br>\n",
        "\n",
        "<br>\n",
        "\n",
        "<br>\n",
        "\n",
        "<br>\n",
        "\n",
        "<br>\n",
        "\n",
        "<br>\n",
        "\n",
        "<br>\n",
        "\n",
        "<br>\n",
        "\n",
        "<br>\n",
        "\n",
        "<br>\n",
        "\n",
        "<br>\n",
        "\n",
        "<br>\n",
        "\n",
        "<br>\n",
        "\n",
        "<br>\n",
        "\n",
        "<br>\n",
        "\n",
        "<br>\n",
        "\n",
        "<br>\n",
        "\n",
        "<br>\n",
        "\n",
        "<br>\n"
      ],
      "metadata": {
        "id": "_wf99tXqP_01"
      }
    },
    {
      "cell_type": "markdown",
      "metadata": {
        "id": "lmVI_jZEyIWL"
      },
      "source": [
        "## Fairness Audit\n",
        "\n",
        "Now we <font color=\"blue\"><i>audit our model</i></font> to find out if it exhibits some kind of bias.\n",
        "\n",
        "* Loan/credit approval\n",
        "\n",
        "* Performance estimation\n",
        "\n",
        "* Recidivism prediction"
      ]
    },
    {
      "cell_type": "markdown",
      "metadata": {
        "id": "w8ibBhF2ydM7"
      },
      "source": [
        "### \"Visual\" Inspection\n",
        "\n",
        "A simple inspection of the classifier's behavior reveals the following <font color=\"blue\"><i>fairness problem</i></font>:\n",
        "\n",
        "> despite that Individual 114 has better credentials than Individual 117,<br> the former does not get the loan while the latter does.\n",
        "\n",
        "<b>Note.</b> In fact, both individuals earn more than 50k."
      ]
    },
    {
      "cell_type": "code",
      "metadata": {
        "id": "0oNm2ClFAB5r",
        "colab": {
          "base_uri": "https://localhost:8080/",
          "height": 314
        },
        "outputId": "4907ce3e-b7e1-40cd-8ddc-8a01ac39baad"
      },
      "source": [
        "plt.scatter(range(110,121), Y_test[range(110,121)], color='red', label=\"True\")\n",
        "plt.scatter(range(110,121), 0.9*Y_test_hat[range(110,121)] + 0.05, color='blue',\n",
        "            label=\"Predicted\")\n",
        "plt.xlabel(\"Individual Number\")\n",
        "plt.ylabel(\"Income Bracket\")\n",
        "plt.ylim([-0.05, 1.05])\n",
        "plt.legend(loc='upper left')\n",
        "plt.show()\n",
        "\n",
        "print(\"Individual 114: \", test_df.values[114,[0,3,6,9]])\n",
        "print(\"Individual 117: \", test_df.values[117,[0,3,6,9]])"
      ],
      "execution_count": null,
      "outputs": [
        {
          "output_type": "display_data",
          "data": {
            "text/plain": [
              "<Figure size 432x288 with 1 Axes>"
            ],
            "image/png": "[encoded data removed]"
          },
          "metadata": {
            "needs_background": "light"
          }
        },
        {
          "output_type": "stream",
          "name": "stdout",
          "text": [
            "Individual 114:  [48 'Doctorate' 'Prof-specialty' 'Female']\n",
            "Individual 117:  [41 'Masters' 'Prof-specialty' 'Male']\n"
          ]
        }
      ]
    },
    {
      "cell_type": "markdown",
      "metadata": {
        "id": "iMz28_EcyY8j"
      },
      "source": [
        "### Counterfactual Experiment\n",
        "\n",
        "Consider the hypothetical situation where the genders of Individuals 114 and 117 are fliped. This experiment reveals that\n",
        "\n",
        "> the classifier seems to be biased against women."
      ]
    },
    {
      "cell_type": "code",
      "metadata": {
        "id": "wS9GSWZJyXEn",
        "colab": {
          "base_uri": "https://localhost:8080/",
          "height": 314
        },
        "outputId": "d09ddf35-7d34-457d-efa8-7fd54f359bc2"
      },
      "source": [
        "X_ctf = copy.deepcopy(X_test)\n",
        "X_ctf[114,15] = 0\n",
        "X_ctf[117,15] = 1\n",
        "\n",
        "Y_ctf_hat = regressor.predict(X_ctf[:,sel_var])\n",
        "Y_ctf_hat = 0.5*(1+np.sign(Y_ctf_hat-0.5))\n",
        "\n",
        "plt.scatter(range(110,121), Y_test[range(110,121)], color='red', label=\"True\")\n",
        "plt.scatter(range(110,121), 0.9*Y_ctf_hat[range(110,121)] + 0.05, color='blue',\n",
        "            label=\"Predicted\")\n",
        "plt.xlabel(\"Individual Number\")\n",
        "plt.ylabel(\"Income Bracket\")\n",
        "plt.ylim([-0.05, 1.05])\n",
        "plt.legend(loc='upper left')\n",
        "plt.show()\n",
        "\n",
        "print(r\"Y_ctf_hat[114] = %1.0f\" % Y_ctf_hat[114],\n",
        "      \": Individual 114 would get the loan if she were a male!\")\n",
        "print(r\"Y_ctf_hat[117] = %1.0f\" % Y_ctf_hat[117],\n",
        "      \": Individual 117 would not get the loan if he were a female!\")"
      ],
      "execution_count": null,
      "outputs": [
        {
          "output_type": "display_data",
          "data": {
            "text/plain": [
              "<Figure size 432x288 with 1 Axes>"
            ],
            "image/png": "[encoded data removed]"
          },
          "metadata": {
            "needs_background": "light"
          }
        },
        {
          "output_type": "stream",
          "name": "stdout",
          "text": [
            "Y_ctf_hat[114] = 1 : Individual 114 would get the loan if she were a male!\n",
            "Y_ctf_hat[117] = 0 : Individual 117 would not get the loan if he were a female!\n"
          ]
        }
      ]
    },
    {
      "cell_type": "markdown",
      "metadata": {
        "id": "jzLZknaG9Gqf"
      },
      "source": [
        "### Coefficients Inspection\n",
        "\n",
        "Recall that $x_{\\text{gender}} = 1$ whenever the individual is female and\n",
        "$$ g_{b,w}(x) = b + w_{1}x_{1} + \\cdots + w_{d}x_{d}, \\\\ h_{b,w}(x) = \\begin{cases}1 & g_{b,w}(x) \\geq 1/2,\\\\0 & g_{b,w}(x) < 1/2.\\end{cases}$$\n",
        "\n",
        "<br>\n",
        "\n",
        "By inspecting the coefficients of the linear regression model, we observe that\n",
        "\n",
        "$$ \\hat{w}_{\\text{gender}} = -0.195.$$\n",
        "\n",
        "Since $x_{\\text{gender}} = 1$ whenever an individual is female, the last equation reveals that\n",
        "\n",
        "> the classifier is heavily biased against women."
      ]
    },
    {
      "cell_type": "code",
      "metadata": {
        "id": "UMyS6k9d8wwk",
        "colab": {
          "base_uri": "https://localhost:8080/"
        },
        "outputId": "f873f2b6-11d5-4817-a93e-5af2caede6f2"
      },
      "source": [
        "print(\"Estimated Parameters\")\n",
        "print(\"b =\", regressor.intercept_)\n",
        "print(\"w =\", regressor.coef_)"
      ],
      "execution_count": null,
      "outputs": [
        {
          "output_type": "stream",
          "name": "stdout",
          "text": [
            "Estimated Parameters\n",
            "b = -0.09763389815894061\n",
            "w = [ 0.4636149   0.34492326 -0.10517669 -0.00937811  0.21446648 -0.11698065\n",
            " -0.0999603  -0.03915323 -0.06505855 -0.02206587  0.18783291  0.07052082\n",
            "  0.0685273   0.09123771 -0.0274078  -0.19483919]\n"
          ]
        }
      ]
    },
    {
      "cell_type": "markdown",
      "metadata": {
        "id": "zG_fzcyIynLf"
      },
      "source": [
        "### Fairness-Aware Classification\n",
        "\n",
        "A straightforward way to fix this fairness problem is to <font color=\"blue\"><i>restrain our classifier from using gender</i></font>."
      ]
    },
    {
      "cell_type": "code",
      "metadata": {
        "id": "894PgxPjAIU3"
      },
      "source": [
        "sel_var = range(0,15)\n",
        "\n",
        "regressor = LinearRegression()\n",
        "regressor.fit(X_train[:,sel_var],Y_train)\n",
        "\n",
        "Y_test_hat = regressor.predict(X_test[:,sel_var])\n",
        "Y_test_hat = 0.5*(1+np.sign(Y_test_hat-0.5))"
      ],
      "execution_count": null,
      "outputs": []
    },
    {
      "cell_type": "markdown",
      "metadata": {
        "id": "mrvDZsNTxbcx"
      },
      "source": [
        "As shown in the next plot, this fairness-aware classifier\n",
        "\n",
        "> approves the loan of Individual 114, but not the one of Individual 117."
      ]
    },
    {
      "cell_type": "code",
      "metadata": {
        "id": "pttfLb9CxcN0",
        "colab": {
          "base_uri": "https://localhost:8080/",
          "height": 279
        },
        "outputId": "7e8e581e-f6b9-4214-8563-8c4ce65d3162"
      },
      "source": [
        "plt.scatter(range(110,121), Y_test[range(110,121)], color='red', label=\"True\")\n",
        "plt.scatter(range(110,121), 0.9*Y_test_hat[range(110,121)] + 0.05, color='blue',\n",
        "            label=\"Predicted\")\n",
        "plt.xlabel(\"Individual Number\")\n",
        "plt.ylabel(\"Income Bracket\")\n",
        "plt.legend(loc='upper left')\n",
        "plt.show()"
      ],
      "execution_count": null,
      "outputs": [
        {
          "output_type": "display_data",
          "data": {
            "text/plain": [
              "<Figure size 432x288 with 1 Axes>"
            ],
            "image/png": "[encoded data removed]"
          },
          "metadata": {
            "needs_background": "light"
          }
        }
      ]
    },
    {
      "cell_type": "markdown",
      "metadata": {
        "id": "mhjYOZtuzIJE"
      },
      "source": [
        "### Cost of Fairness\n",
        "\n",
        "<font color=\"blue\"><i>Fairness typically has a cost</i></font> in terms of performance:\n",
        "\n",
        "> The fairness-aware classifier exhibits a 1.9% performance loss."
      ]
    },
    {
      "cell_type": "code",
      "metadata": {
        "id": "0DnidqICAOcE",
        "colab": {
          "base_uri": "https://localhost:8080/"
        },
        "outputId": "aafa6d43-3bf0-489f-efdb-969f9547f2be"
      },
      "source": [
        "acc = 100 - 100.0*np.linalg.norm(Y_test_hat-Y_test,1)/15060.0\n",
        "print(\"Accuracy = %2.1f%%\" % acc)"
      ],
      "execution_count": null,
      "outputs": [
        {
          "output_type": "stream",
          "name": "stdout",
          "text": [
            "Accuracy = 77.2%\n"
          ]
        }
      ]
    },
    {
      "cell_type": "markdown",
      "source": [
        "<br>\n",
        "\n",
        "<br>\n",
        "\n",
        "<br>\n",
        "\n",
        "<br>\n",
        "\n",
        "<br>\n",
        "\n",
        "<br>\n",
        "\n",
        "<br>\n",
        "\n",
        "<br>\n",
        "\n",
        "<br>\n",
        "\n",
        "<br>\n",
        "\n",
        "<br>\n",
        "\n",
        "<br>\n",
        "\n",
        "<br>\n",
        "\n",
        "<br>\n",
        "\n",
        "<br>\n",
        "\n",
        "<br>\n",
        "\n",
        "<br>\n",
        "\n",
        "<br>\n",
        "\n",
        "<br>\n",
        "\n",
        "<br>\n",
        "\n",
        "<br>\n",
        "\n",
        "<br>\n",
        "\n",
        "<br>\n",
        "\n",
        "<br>\n"
      ],
      "metadata": {
        "id": "mV77IIHeSfR7"
      }
    },
    {
      "cell_type": "markdown",
      "metadata": {
        "id": "MUNxfCOvzNMv"
      },
      "source": [
        "### Questions"
      ]
    },
    {
      "cell_type": "markdown",
      "metadata": {
        "id": "JQwC8u702cyH"
      },
      "source": [
        "<font color=\"blue\"><b>Restrain the Use of a Sensitive Attribute</b></font>\n",
        "\n",
        "In general, is it enough to delete an attribute in order to avoid its use?"
      ]
    },
    {
      "cell_type": "markdown",
      "metadata": {
        "id": "mLOohPXwVgPE"
      },
      "source": [
        "–"
      ]
    },
    {
      "cell_type": "markdown",
      "metadata": {
        "id": "45tfIC_cVhGy"
      },
      "source": [
        "Not really! Indeed, in the Adult Dataset the attributes <i>Relationship</i> and <i>Gender</i> are highly correlated."
      ]
    },
    {
      "cell_type": "markdown",
      "metadata": {
        "id": "a8IjFJxYVxho"
      },
      "source": [
        "<br>\n",
        "\n",
        "<br>\n",
        "\n",
        "<br>\n",
        "\n",
        "<br>\n",
        "\n",
        "<br>\n",
        "\n",
        "<br>\n",
        "\n",
        "<br>"
      ]
    },
    {
      "cell_type": "markdown",
      "metadata": {
        "id": "hbDhKz1IVyaR"
      },
      "source": [
        "<font color=\"blue\"><b>Partial Use of a Sensitive Attribute</b></font>\n",
        "\n",
        "Is it possible to partially use a sensitive attribute?"
      ]
    },
    {
      "cell_type": "markdown",
      "metadata": {
        "id": "hJNgUMluWKYN"
      },
      "source": [
        "–"
      ]
    },
    {
      "cell_type": "markdown",
      "metadata": {
        "id": "wJr0ARBDWWfO"
      },
      "source": [
        "Yes! Think about the following transformation:\n",
        "\n",
        "> For $p\\in[0,1/2]$, let\n",
        "> $$ x_{\\text{gender}}' = \\begin{cases}x_{\\text{gender}} & \\text{with probability }1-p,\\\\1-x_{\\text{gender}} & \\text{with probability }p.\\end{cases} $$\n",
        "\n",
        "Extreme cases:\n",
        "* $p=0$ : use gender as is;\n",
        "* $p=1/2$ : assign gender at random (independently).\n",
        "\n",
        "<br>\n",
        "\n",
        "<b>Moral:</b> $p$ is knob to control how much of the gender we are using."
      ]
    },
    {
      "cell_type": "markdown",
      "metadata": {
        "id": "sQZRroABZA4u"
      },
      "source": [
        "<br>\n",
        "\n",
        "<br>\n",
        "\n",
        "<br>\n",
        "\n",
        "<br>\n",
        "\n",
        "<br>\n",
        "\n",
        "<br>\n",
        "\n",
        "<br>"
      ]
    },
    {
      "cell_type": "markdown",
      "metadata": {
        "id": "h-Cd-WG3c1qD"
      },
      "source": [
        "<font color=\"blue\"><b>Another Story for Another Time: Additive Noise Mechanism</b></font>"
      ]
    },
    {
      "cell_type": "markdown",
      "metadata": {
        "id": "CvkU008JS_4A"
      },
      "source": [
        "Recall that the XOR operation (modulo 2 addition) is defined by\n",
        "\n",
        "$$ a \\oplus b = \\begin{cases}0 & \\text{if } a = b,\\\\ 1 & \\text{if }a \\neq b.\\end{cases}$$\n",
        "\n",
        "<br>\n",
        "\n",
        "The previous technique could be expressed as\n",
        "\n",
        "> $$ x'_{\\text{gender}} = x_{\\text{gender}} \\oplus Z_{p},$$\n",
        "\n",
        "where $Z_{p} \\sim \\text{Bern}(p)$ random variable, i.e., $Z_{p}$ is equal to 1 with probability $p$ and 0 with probability $1-p$.\n",
        "\n",
        "<br>\n",
        "\n",
        "<b><i><u>\"Noise addition might be useful to control the correlation between random variables.\"</u></i></b>"
      ]
    },
    {
      "cell_type": "markdown",
      "metadata": {
        "id": "8_4LOkp_PsrO"
      },
      "source": [
        "<br>\n",
        "\n",
        "<br>\n",
        "\n",
        "<br>\n",
        "\n",
        "<br>\n",
        "\n",
        "<br>\n",
        "\n",
        "<br>\n",
        "\n",
        "<br>\n",
        "\n",
        "<br>\n"
      ]
    },
    {
      "cell_type": "markdown",
      "metadata": {
        "id": "SbhABpPWsKqI"
      },
      "source": [
        "## Conclusion\n",
        "\n",
        "* A fundamental problem in Fair/Private Machine Learning is\n",
        "> <font color=\"blue\"><i>to asses and destroy correlation between different (random) variables.</i></font>\n",
        "\n",
        "* Correlation is quantified using information leakage measures, e.g.,\n",
        "> <font color=\"blue\"><i>mutual information, total variation, MMSE, Wasserstein distance.</i></font>\n",
        "\n",
        "<br>\n",
        "\n",
        "<br>\n",
        "\n",
        "<br>\n",
        "\n",
        "<br>\n",
        "\n",
        "<br>\n",
        "\n",
        "<br>\n",
        "\n",
        "<br>\n",
        "\n",
        "Mario Diaz, IIMAS-UNAM<br>\n",
        "mario.diaz@sigma.iimas.unam.mx<br>\n",
        "https://mariodiaztorres.com/"
      ]
    }
  ]
}